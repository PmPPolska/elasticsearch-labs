{
 "cells": [
  {
   "attachments": {},
   "cell_type": "markdown",
   "metadata": {},
   "source": [
    "question answering example doing the following:\n",
    "\n",
    "1. load the deepset model stored on huggingface via eland into elasticsearch\n",
    "2. setup a pipeline + ingest data (wikipedia) to enrich\n",
    "3. ask questions on dataset\n"
   ]
  }
 ],
 "metadata": {
  "language_info": {
   "name": "python"
  },
  "orig_nbformat": 4
 },
 "nbformat": 4,
 "nbformat_minor": 2
}
