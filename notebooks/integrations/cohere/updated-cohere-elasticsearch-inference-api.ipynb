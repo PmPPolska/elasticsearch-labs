{
 "cells": [
  {
   "cell_type": "markdown",
   "id": "68a13ecd",
   "metadata": {},
   "source": [
    "# Tutorial: Using Cohere with the elastic open inference API\n",
    "\n",
    "## TODO [![Open In Colab](https://colab.research.google.com/assets/colab-badge.svg)]()\n",
    "\n",
    "This tutorial shows you how to compute embeddings with\n",
    "Cohere using the elastic open inference API and store them for efficient vector or hybrid\n",
    "search in Elasticsearch. This tutorial uses the Python Elasticsearch client\n",
    "to perform the operations.\n",
    "\n",
    "You'll learn how to:\n",
    "* create an inference endpoint for text embedding using the Cohere service,\n",
    "* create the necessary index mapping for the Elasticsearch index using semantic search,\n",
    "* rerank with retrievers using Cohere's rerank model,\n",
    "* design a RAG system with Cohere's Chat API.\n",
    "\n",
    "The tutorial uses the [gqd/fictional-characters](https://huggingface.co/datasets/gqd/fictional-characters/blob/main/heros.json) data set.\n",
    "\n",
    "Refer to [Cohere's tutorial](https://docs.cohere.com/docs/elasticsearch-and-cohere) for an example using a different data set."
   ]
  },
  {
   "cell_type": "markdown",
   "id": "7f068b1b",
   "metadata": {},
   "source": [
    "## 🧰 Requirements\n",
    "\n",
    "For this example, you will need:\n",
    "\n",
    "- An Elastic deployment:\n",
    "   - We'll be using [Elastic serverless](https://www.elastic.co/docs/current/serverless) for this example (available with a [free trial](https://cloud.elastic.co/registration?utm_source=github&utm_content=elasticsearch-labs-notebook))\n",
    "   \n",
    "- A paid [Cohere account](https://cohere.com/) is required to use the Open Inference API with \n",
    "the Cohere service as the Cohere free trial API usage is limited.\n",
    "\n",
    "- Python 3.7+.\n",
    "\n",
    "- the 8.15+ python elasticsearch client"
   ]
  },
  {
   "cell_type": "markdown",
   "id": "aac02d37",
   "metadata": {},
   "source": [
    "## Install and import required packages\n",
    "\n",
    "Install Elasticsearch and Cohere:"
   ]
  },
  {
   "cell_type": "code",
   "execution_count": 1,
   "id": "50940b4d",
   "metadata": {},
   "outputs": [
    {
     "name": "stdout",
     "output_type": "stream",
     "text": [
      "Requirement already satisfied: elasticsearch==8.15 in /Users/mh/.venv/lib/python3.11/site-packages (8.15.0)\n",
      "Requirement already satisfied: elastic-transport<9,>=8.13 in /Users/mh/.venv/lib/python3.11/site-packages (from elasticsearch==8.15) (8.13.1)\n",
      "Requirement already satisfied: urllib3<3,>=1.26.2 in /Users/mh/.venv/lib/python3.11/site-packages (from elastic-transport<9,>=8.13->elasticsearch==8.15) (2.1.0)\n",
      "Requirement already satisfied: certifi in /Users/mh/.venv/lib/python3.11/site-packages (from elastic-transport<9,>=8.13->elasticsearch==8.15) (2023.11.17)\n",
      "\n",
      "\u001b[1m[\u001b[0m\u001b[34;49mnotice\u001b[0m\u001b[1;39;49m]\u001b[0m\u001b[39;49m A new release of pip is available: \u001b[0m\u001b[31;49m23.3.2\u001b[0m\u001b[39;49m -> \u001b[0m\u001b[32;49m24.2\u001b[0m\n",
      "\u001b[1m[\u001b[0m\u001b[34;49mnotice\u001b[0m\u001b[1;39;49m]\u001b[0m\u001b[39;49m To update, run: \u001b[0m\u001b[32;49mpip install --upgrade pip\u001b[0m\n"
     ]
    }
   ],
   "source": [
    "!pip install elasticsearch==8.15"
   ]
  },
  {
   "cell_type": "markdown",
   "id": "3b24d95b",
   "metadata": {},
   "source": [
    "Import the required packages:"
   ]
  },
  {
   "cell_type": "code",
   "execution_count": 2,
   "id": "1a5a5eeb",
   "metadata": {},
   "outputs": [],
   "source": [
    "from elasticsearch import Elasticsearch, helpers\n",
    "import json\n",
    "import requests\n",
    "from getpass import getpass"
   ]
  },
  {
   "cell_type": "markdown",
   "id": "3d0dacc5",
   "metadata": {},
   "source": [
    "## Create an Elasticsearch client"
   ]
  },
  {
   "cell_type": "markdown",
   "id": "74841401",
   "metadata": {},
   "source": [
    "Now you can instantiate the Python Elasticsearch client.\n",
    "\n",
    "First provide your password and Cloud ID.\n",
    "Then create a `client` object that instantiates an instance of the `Elasticsearch` class."
   ]
  },
  {
   "cell_type": "code",
   "execution_count": 18,
   "id": "76394974",
   "metadata": {},
   "outputs": [
    {
     "name": "stdout",
     "output_type": "stream",
     "text": [
      "{'name': 'serverless', 'cluster_name': 'b84f5a8ed15b4766b3f34666e7e06313', 'cluster_uuid': 'yecqXsgJTzuBufJH9q7zag', 'version': {'number': '8.11.0', 'build_flavor': 'serverless', 'build_type': 'docker', 'build_hash': '00000000', 'build_date': '2023-10-31', 'build_snapshot': False, 'lucene_version': '9.7.0', 'minimum_wire_compatibility_version': '8.11.0', 'minimum_index_compatibility_version': '8.11.0'}, 'tagline': 'You Know, for Search'}\n"
     ]
    }
   ],
   "source": [
    "ELASTIC_SERVERLESS_ENDPOINT = getpass(\"Elastic serverless endpoint: \")\n",
    "ELASTIC_API_KEY = getpass(\"Elastic API key: \")\n",
    "\n",
    "# Create the client instance\n",
    "client = Elasticsearch(\n",
    "    # For local development\n",
    "    # hosts=[\"http://localhost:9200\"]\n",
    "    hosts=[ELASTIC_SERVERLESS_ENDPOINT],\n",
    "    api_key=ELASTIC_API_KEY,\n",
    "    request_timeout=120,\n",
    "    max_retries=10,\n",
    "    retry_on_timeout=True,\n",
    ")\n",
    "\n",
    "# Confirm the client has connected\n",
    "print(client.info())"
   ]
  },
  {
   "cell_type": "markdown",
   "id": "3d29b809",
   "metadata": {},
   "source": [
    "## Create the inference endpoints\n",
    "\n",
    "Create the inference endpoint first. In this example, the inference endpoint \n",
    "uses Cohere's `embed-english-v3.0` model and the `embedding_type` is set to\n",
    "`byte`."
   ]
  },
  {
   "cell_type": "code",
   "execution_count": 11,
   "id": "ae8ae88c",
   "metadata": {},
   "outputs": [],
   "source": [
    "COHERE_API_KEY = getpass(\"Cohere API key: \")"
   ]
  },
  {
   "cell_type": "code",
   "execution_count": 20,
   "id": "6e524ce4",
   "metadata": {},
   "outputs": [
    {
     "data": {
      "text/plain": [
       "ObjectApiResponse({'model_id': 'cohere_embeddings', 'inference_id': 'cohere_embeddings', 'task_type': 'text_embedding', 'service': 'cohere', 'service_settings': {'similarity': 'dot_product', 'dimensions': 1024, 'model_id': 'embed-english-v3.0', 'rate_limit': {'requests_per_minute': 10000}, 'embedding_type': 'byte'}, 'task_settings': {}})"
      ]
     },
     "execution_count": 20,
     "metadata": {},
     "output_type": "execute_result"
    }
   ],
   "source": [
    "client.inference.delete(inference_id=\"cohere_embeddings\", force=True)\n",
    "client.inference.put(\n",
    "    task_type=\"text_embedding\",\n",
    "    inference_id=\"cohere_embeddings\",\n",
    "    body={\n",
    "        \"service\": \"cohere\",\n",
    "        \"service_settings\": {\n",
    "            \"api_key\": COHERE_API_KEY,\n",
    "            \"model_id\": \"embed-english-v3.0\",\n",
    "            \"embedding_type\": \"byte\",\n",
    "        },\n",
    "    },\n",
    ")"
   ]
  },
  {
   "cell_type": "markdown",
   "id": "884e424d",
   "metadata": {},
   "source": [
    "You can find your API keys in your Cohere dashboard under the\n",
    "[API keys section](https://dashboard.cohere.com/api-keys)."
   ]
  },
  {
   "cell_type": "markdown",
   "id": "178c32db",
   "metadata": {},
   "source": [
    "## Create the index mapping\n",
    "\n",
    "Create the index mapping for the index that will contain the embeddings."
   ]
  },
  {
   "cell_type": "code",
   "execution_count": 21,
   "id": "35ab26b2",
   "metadata": {},
   "outputs": [
    {
     "data": {
      "text/plain": [
       "ObjectApiResponse({'acknowledged': True, 'shards_acknowledged': True, 'index': 'characters-index'})"
      ]
     },
     "execution_count": 21,
     "metadata": {},
     "output_type": "execute_result"
    }
   ],
   "source": [
    "client.indices.create(\n",
    "    index=\"characters-index\",\n",
    "    mappings={\n",
    "        \"properties\": {\n",
    "            \"infer_field\": {\n",
    "                \"type\": \"semantic_text\",\n",
    "                \"inference_id\": \"cohere_embeddings\",\n",
    "            },\n",
    "            \"title\": {\"type\": \"text\", \"copy_to\": \"infer_field\"},\n",
    "        }\n",
    "    },\n",
    ")"
   ]
  },
  {
   "cell_type": "markdown",
   "id": "9c5e1e7b",
   "metadata": {},
   "source": [
    "## Prepare data and insert documents\n",
    "\n",
    "This example uses the [SciFact](https://huggingface.co/datasets/mteb/scifact) data\n",
    "set that you can find on HuggingFace."
   ]
  },
  {
   "cell_type": "code",
   "execution_count": 22,
   "id": "c71b8367",
   "metadata": {},
   "outputs": [
    {
     "name": "stdout",
     "output_type": "stream",
     "text": [
      "{'title': '\"Eat\" Owner', 'parsed': {'image': 'Vlcsnap-2016-09-06-05h31m34s50.png', 'origin': \"''Wander Over Yonder''\", 'fullname': 'Unknown', 'alias': '\"Eat\" Owner', 'occupation': 'Restaurant owner', 'skills': 'Management skills', 'goals': 'Manage his restaurant.<br>\\nHelp the rebels defeat Lord Dominator.<br>', 'hobby': '', 'family': 'Unknown', 'friends': 'Michelle', 'enemies': 'Lord Dominator', 'type of hero': 'Alien'}, 'origin': \"''Wander Over Yonder''\"}\n",
      "0 of 8058\n",
      "100 of 8058\n",
      "200 of 8058\n",
      "300 of 8058\n",
      "400 of 8058\n",
      "500 of 8058\n",
      "600 of 8058\n",
      "700 of 8058\n",
      "800 of 8058\n",
      "900 of 8058\n",
      "1000 of 8058\n",
      "1100 of 8058\n",
      "1200 of 8058\n",
      "1300 of 8058\n",
      "1400 of 8058\n",
      "1500 of 8058\n",
      "1600 of 8058\n",
      "1700 of 8058\n",
      "1800 of 8058\n",
      "1900 of 8058\n",
      "2000 of 8058\n",
      "2100 of 8058\n",
      "2200 of 8058\n",
      "2300 of 8058\n",
      "2400 of 8058\n",
      "2500 of 8058\n",
      "2600 of 8058\n",
      "2700 of 8058\n",
      "2800 of 8058\n",
      "2900 of 8058\n",
      "3000 of 8058\n",
      "3100 of 8058\n",
      "3200 of 8058\n",
      "3300 of 8058\n",
      "3400 of 8058\n",
      "3500 of 8058\n",
      "3600 of 8058\n",
      "3700 of 8058\n",
      "3800 of 8058\n",
      "3900 of 8058\n",
      "4000 of 8058\n",
      "4100 of 8058\n",
      "4200 of 8058\n",
      "4300 of 8058\n",
      "4400 of 8058\n",
      "4500 of 8058\n",
      "4600 of 8058\n",
      "4700 of 8058\n",
      "4800 of 8058\n",
      "4900 of 8058\n",
      "5000 of 8058\n",
      "5100 of 8058\n",
      "5200 of 8058\n",
      "5300 of 8058\n",
      "5400 of 8058\n",
      "5500 of 8058\n",
      "5600 of 8058\n",
      "5700 of 8058\n",
      "5800 of 8058\n",
      "5900 of 8058\n",
      "6000 of 8058\n",
      "6100 of 8058\n",
      "6200 of 8058\n",
      "6300 of 8058\n",
      "6400 of 8058\n",
      "6500 of 8058\n",
      "6600 of 8058\n",
      "6700 of 8058\n",
      "6800 of 8058\n",
      "6900 of 8058\n",
      "7000 of 8058\n",
      "7100 of 8058\n",
      "7200 of 8058\n",
      "7300 of 8058\n",
      "7400 of 8058\n",
      "7500 of 8058\n",
      "7600 of 8058\n",
      "7700 of 8058\n",
      "7800 of 8058\n",
      "7900 of 8058\n",
      "8000 of 8058\n",
      "(8058, [])\n",
      "Data ingestion completed, text embeddings generated!\n"
     ]
    }
   ],
   "source": [
    "url = \"https://huggingface.co/datasets/gqd/fictional-characters/resolve/main/heros.json\"\n",
    "\n",
    "# Fetch the JSONL data from the URL\n",
    "response = requests.get(url)\n",
    "response.raise_for_status()  # Ensure we notice bad responses\n",
    "\n",
    "# Split the content by new lines and parse each line as JSON\n",
    "data = json.loads(response.text)\n",
    "\n",
    "wanted_fields = [\"title\", \"origin\"]\n",
    "print(data[0])\n",
    "\n",
    "# Prepare the documents to be indexed\n",
    "documents = []\n",
    "for i, line in enumerate(data):\n",
    "    if i % 100 == 0:\n",
    "        print(i, \"of\", len(data))\n",
    "    data_dict = dict((k, line[k]) for k in wanted_fields if k in line)\n",
    "    documents.append(\n",
    "        {\n",
    "            \"_index\": \"characters-index\",\n",
    "            \"_source\": data_dict,\n",
    "        }\n",
    "    )\n",
    "\n",
    "# Use the bulk endpoint to index\n",
    "print(helpers.bulk(client, documents))\n",
    "\n",
    "print(\"Data ingestion completed, text embeddings generated!\")"
   ]
  },
  {
   "cell_type": "markdown",
   "id": "9332078a",
   "metadata": {},
   "source": [
    "Your index is populated with the SciFact data and text embeddings for the text\n",
    "field."
   ]
  },
  {
   "cell_type": "markdown",
   "id": "153ce2d5",
   "metadata": {},
   "source": [
    "## Add the rerank inference endpoint\n",
    "\n",
    "To combine the results more effectively, use \n",
    "[Cohere's Rerank v3](https://docs.cohere.com/docs/rerank-2) model through the\n",
    "inference API to provide a more precise semantic reranking of the results.\n",
    "\n",
    "Create an inference endpoint with your Cohere API key and the used model name as\n",
    "the `model_id` (`rerank-english-v3.0` in this example)."
   ]
  },
  {
   "cell_type": "code",
   "execution_count": 42,
   "id": "886c4d15",
   "metadata": {},
   "outputs": [
    {
     "data": {
      "text/plain": [
       "ObjectApiResponse({'model_id': 'cohere_rerank', 'inference_id': 'cohere_rerank', 'task_type': 'rerank', 'service': 'cohere', 'service_settings': {'model_id': 'rerank-english-v3.0', 'rate_limit': {'requests_per_minute': 10000}}, 'task_settings': {'top_n': 100, 'return_documents': True}})"
      ]
     },
     "execution_count": 42,
     "metadata": {},
     "output_type": "execute_result"
    }
   ],
   "source": [
    "client.inference.delete(inference_id=\"cohere_rerank\")\n",
    "client.inference.put(\n",
    "    task_type=\"rerank\",\n",
    "    inference_id=\"cohere_rerank\",\n",
    "    body={\n",
    "        \"service\": \"cohere\",\n",
    "        \"service_settings\": {\n",
    "            \"api_key\": COHERE_API_KEY,\n",
    "            \"model_id\": \"rerank-english-v3.0\",\n",
    "        },\n",
    "        \"task_settings\": {\"top_n\": 100, \"return_documents\": True},\n",
    "    },\n",
    ")"
   ]
  },
  {
   "cell_type": "markdown",
   "id": "610035af",
   "metadata": {},
   "source": [
    "## Semantic search with reranking\n",
    "\n",
    "Let's start querying the index!"
   ]
  },
  {
   "cell_type": "code",
   "execution_count": 82,
   "id": "ab735ef0",
   "metadata": {},
   "outputs": [],
   "source": [
    "def semantic_search_with_reranking(query):\n",
    "    return client.search(\n",
    "        index=\"characters-index\",\n",
    "        retriever={\n",
    "            \"text_similarity_reranker\": {\n",
    "                \"retriever\": {\n",
    "                    \"standard\": {\n",
    "                        \"query\": {\"semantic\": {\"field\": \"infer_field\", \"query\": query}}\n",
    "                    }\n",
    "                },\n",
    "                \"field\": \"title\",\n",
    "                \"inference_id\": \"cohere_rerank\",\n",
    "                \"inference_text\": query,\n",
    "                \"rank_window_size\": 100,\n",
    "            }\n",
    "        },\n",
    "    )\n",
    "\n",
    "\n",
    "def pretty_print_characters(docs):\n",
    "    hits = docs[\"hits\"][\"hits\"]\n",
    "    for hit in hits:\n",
    "        source = hit[\"_source\"]\n",
    "        print(\"Title:\", source[\"title\"] + \" (Origin:\", source[\"origin\"] + \")\")"
   ]
  },
  {
   "cell_type": "code",
   "execution_count": 83,
   "id": "3f0fc7e1",
   "metadata": {},
   "outputs": [
    {
     "name": "stdout",
     "output_type": "stream",
     "text": [
      "Title: Sarah Connor (Terminator Genisys) (Origin: {{W|Terminator Genisys|Terminator Genisys)\n",
      "Title: Malachi (Babylon 5) (Origin: ''Babylon 5'' episode ''The Coming of Shadows'')\n",
      "Title: Michael (E.T.) (Origin: ''E.T. the Extra-Terrestrial'')\n",
      "Title: Jack (Mass Effect) (Origin: ''{{w|Mass Effect 2)\n",
      "Title: Jane (Babylon 5) (Origin: ''Babylon 5'')\n",
      "Title: Jean-Luc Picard (Origin: ''Star Trek: The Next Generation'')\n",
      "Title: Data (Star Trek) (Origin: ''Star Trek: The Next Generation'')\n",
      "Title: Walter (Alien Covenant) (Origin: ''Alien: Covenant'')\n",
      "Title: Adam Warlock (Marvel's Guardians of the Galaxy) (Origin: ''{{w|Marvel's Guardians of the Galaxy)\n",
      "Title: Cooper (Jurassic Park) (Origin: ''Jurassic Park III'')\n",
      "\n",
      "Title: Abraham Van Helsing (Hotel Transylvania) (Origin: ''Hotel Transylvania 3: Summer Vacation'')\n",
      "Title: Rand al'Thor (Origin: ''The Wheel of Time'')\n",
      "Title: Draco Malfoy (Origin: ''Harry Potter'' series)\n",
      "Title: Arthur Pendragon (Shrek) (Origin: ''{{W|Shrek the Third)\n",
      "Title: Robin Hood (Prince of Thieves) (Origin: 1991 film ''Robin Hood: Prince of Thieves'')\n",
      "Title: Christopher Robin (Disney) (Origin: ''Winnie the Pooh'')\n",
      "Title: Remus Lupin (Origin: ''Harry Potter and the Prisoner of Azkaban'')\n",
      "Title: Wade (Hotel Transylvania) (Origin: ''Hotel Transylvania'')\n",
      "Title: Wilbur (Hotel Transylvania) (Origin: ''Hotel Transylvania'')\n",
      "Title: Helga Hufflepuff (Origin: ''Harry Potter and the Philosopher's Stone'')\n"
     ]
    }
   ],
   "source": [
    "sci_fi_characters = semantic_search_with_reranking(\"Characters from sci-fi movies\")\n",
    "pretty_print_characters(sci_fi_characters)\n",
    "print()\n",
    "fantasy_characters = semantic_search_with_reranking(\"Characters from fantasy movies\")\n",
    "pretty_print_characters(fantasy_characters)"
   ]
  },
  {
   "cell_type": "markdown",
   "id": "9539ff47",
   "metadata": {},
   "source": [
    "## Retrieval Augmented Generation (RAG) with Cohere and Elasticsearch\n",
    "\n",
    "RAG is a method for generating text using additional information fetched from an\n",
    "external data source. With the ranked results, you can build a RAG system on\n",
    "top of what you created with \n",
    "[Cohere's Chat API](https://docs.cohere.com/docs/chat-api).\n",
    "\n",
    "Pass in the retrieved documents and the query to receive a grounded response\n",
    "using Cohere's newest generative model \n",
    "[Command R+](https://docs.cohere.com/docs/command-r-plus).\n",
    "\n",
    "Then pass in the query and the documents to the Chat API, and print out the\n",
    "response."
   ]
  },
  {
   "cell_type": "code",
   "execution_count": 96,
   "id": "f0cd13fe",
   "metadata": {},
   "outputs": [
    {
     "data": {
      "text/plain": [
       "ObjectApiResponse({'model_id': 'cohere_completion', 'inference_id': 'cohere_completion', 'task_type': 'completion', 'service': 'cohere', 'service_settings': {'model_id': 'command-r-plus', 'rate_limit': {'requests_per_minute': 10000}}, 'task_settings': {}})"
      ]
     },
     "execution_count": 96,
     "metadata": {},
     "output_type": "execute_result"
    }
   ],
   "source": [
    "client.inference.delete(inference_id=\"cohere_completion\")\n",
    "client.inference.put(\n",
    "    task_type=\"completion\",\n",
    "    inference_id=\"cohere_completion\",\n",
    "    body={\n",
    "        \"service\": \"cohere\",\n",
    "        \"service_settings\": {\n",
    "            \"api_key\": COHERE_API_KEY,\n",
    "            \"model_id\": \"command-r-plus\",\n",
    "        },\n",
    "    },\n",
    ")"
   ]
  },
  {
   "cell_type": "code",
   "execution_count": 107,
   "id": "2a9333e5",
   "metadata": {},
   "outputs": [
    {
     "name": "stdout",
     "output_type": "stream",
     "text": [
      "['Abraham Van Helsing (Hotel Transylvania)', \"Adam Warlock (Marvel's Guardians of the Galaxy)\", 'Arthur Pendragon (Shrek)', 'Christopher Robin (Disney)', 'Cooper (Jurassic Park)', 'Data (Star Trek)', 'Draco Malfoy', 'Helga Hufflepuff', 'Jack (Mass Effect)', 'Jane (Babylon 5)', 'Jean-Luc Picard', 'Malachi (Babylon 5)', 'Michael (E.T.)', \"Rand al'Thor\", 'Remus Lupin', 'Robin Hood (Prince of Thieves)', 'Sarah Connor (Terminator Genisys)', 'Wade (Hotel Transylvania)', 'Walter (Alien Covenant)', 'Wilbur (Hotel Transylvania)']\n"
     ]
    }
   ],
   "source": [
    "characters = []\n",
    "for hit in sci_fi_characters[\"hits\"][\"hits\"]:\n",
    "    characters.append(hit[\"_source\"][\"title\"])\n",
    "for hit in fantasy_characters[\"hits\"][\"hits\"]:\n",
    "    characters.append(hit[\"_source\"][\"title\"])\n",
    "\n",
    "\n",
    "characters.sort()\n",
    "print(characters)\n",
    "\n",
    "query = \"What generes of movies are these characters from?\"\n",
    "input = [\n",
    "    query,\n",
    "    \"characters\",\n",
    "    characters,\n",
    "]"
   ]
  },
  {
   "cell_type": "code",
   "execution_count": 108,
   "id": "39badebf",
   "metadata": {},
   "outputs": [],
   "source": [
    "response = client.inference.inference(\n",
    "    inference_id=\"cohere_completion\", input=str(input)\n",
    ")"
   ]
  },
  {
   "cell_type": "code",
   "execution_count": 109,
   "id": "ea437663",
   "metadata": {},
   "outputs": [
    {
     "name": "stdout",
     "output_type": "stream",
     "text": [
      "Query: What generes of movies are these characters from?\n",
      "Here is a list of the movie genres that the characters in your list are from:\n",
      "\n",
      "- Abraham Van Helsing, Wade, and Wilbur (Hotel Transylvania): Animated comedy, Fantasy, Horror\n",
      "- Adam Warlock (Marvel's Guardians of the Galaxy): Sci-fi, Action, Superhero\n",
      "- Arthur Pendragon (Shrek): Animated comedy, Fantasy\n",
      "- Christopher Robin (Disney): Live-action adaptation of animated characters, Fantasy\n",
      "- Cooper (Jurassic Park): Sci-fi, Adventure, Thriller\n",
      "- Data and Jean-Luc Picard (Star Trek): Sci-fi, Adventure\n",
      "- Draco Malfoy, Remus Lupin (Harry Potter series): Fantasy, Magical realism\n",
      "- Helga Hufflepuff (Harry Potter series): Fantasy, Magical realism\n",
      "- Jack (Mass Effect): Sci-fi, Action, Military fiction\n",
      "- Jane and Malachi (Babylon 5): Sci-fi, Drama\n",
      "- Michael (E.T.): Sci-fi, Fantasy, Family drama\n",
      "- Rand al'Thor (The Wheel of Time): Fantasy\n",
      "- Robin Hood (Prince of Thieves): Adventure, Historical fiction\n",
      "- Sarah Connor (Terminator Genisys): Sci-fi, Action, Thriller\n",
      "- Walter (Alien Covenant): Sci-fi, Horror\n",
      "\n",
      "Please note that some of these characters may appear in multiple genres depending on their appearances in different adaptations or franchise entries. This list considers the primary genre associated with each character's most well-known portrayal.\n"
     ]
    }
   ],
   "source": [
    "print(f\"Query: {query}\")\n",
    "completion_response = response[\"completion\"][0][\"result\"]\n",
    "print(completion_response)"
   ]
  },
  {
   "cell_type": "code",
   "execution_count": null,
   "id": "20fffc2c",
   "metadata": {},
   "outputs": [],
   "source": []
  }
 ],
 "metadata": {
  "kernelspec": {
   "display_name": ".venv",
   "language": "python",
   "name": "python3"
  },
  "language_info": {
   "codemirror_mode": {
    "name": "ipython",
    "version": 3
   },
   "file_extension": ".py",
   "mimetype": "text/x-python",
   "name": "python",
   "nbconvert_exporter": "python",
   "pygments_lexer": "ipython3",
   "version": "3.11.4"
  }
 },
 "nbformat": 4,
 "nbformat_minor": 5
}
